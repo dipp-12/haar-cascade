{
 "cells": [
  {
   "cell_type": "code",
   "execution_count": 2,
   "metadata": {},
   "outputs": [],
   "source": [
    "import cv2\n",
    "import numpy as np\n",
    "\n",
    "import os\n",
    "os.environ['TF_CPP_MIN_LOG_LEVEL'] = '2'"
   ]
  },
  {
   "cell_type": "code",
   "execution_count": 3,
   "metadata": {},
   "outputs": [
    {
     "name": "stdout",
     "output_type": "stream",
     "text": [
      "Model: \"sequential\"\n",
      "_________________________________________________________________\n",
      " Layer (type)                Output Shape              Param #   \n",
      "=================================================================\n",
      " conv2d (Conv2D)             (None, 88, 43, 8)         224       \n",
      "                                                                 \n",
      " max_pooling2d (MaxPooling2D  (None, 44, 21, 8)        0         \n",
      " )                                                               \n",
      "                                                                 \n",
      " conv2d_1 (Conv2D)           (None, 42, 19, 16)        1168      \n",
      "                                                                 \n",
      " max_pooling2d_1 (MaxPooling  (None, 21, 9, 16)        0         \n",
      " 2D)                                                             \n",
      "                                                                 \n",
      " conv2d_2 (Conv2D)           (None, 19, 7, 32)         4640      \n",
      "                                                                 \n",
      " max_pooling2d_2 (MaxPooling  (None, 9, 3, 32)         0         \n",
      " 2D)                                                             \n",
      "                                                                 \n",
      " flatten (Flatten)           (None, 864)               0         \n",
      "                                                                 \n",
      " dense (Dense)               (None, 100)               86500     \n",
      "                                                                 \n",
      " dense_1 (Dense)             (None, 1)                 101       \n",
      "                                                                 \n",
      "=================================================================\n",
      "Total params: 92,633\n",
      "Trainable params: 92,633\n",
      "Non-trainable params: 0\n",
      "_________________________________________________________________\n"
     ]
    }
   ],
   "source": [
    "from keras.models import Sequential\n",
    "from keras.layers import Dense, Flatten, Conv2D, MaxPooling2D\n",
    "\n",
    "model = Sequential()\n",
    "model.add(Conv2D(8, (3,3), input_shape=(90,45,3), activation='relu'))\n",
    "model.add(MaxPooling2D(2,2))\n",
    "model.add(Conv2D(16,(3,3),activation='relu'))\n",
    "model.add(MaxPooling2D(2,2))\n",
    "model.add(Conv2D(32,(3,3),activation='relu'))\n",
    "model.add(MaxPooling2D(2,2))\n",
    "model.add(Flatten())\n",
    "model.add(Dense(100,activation='relu'))\n",
    "model.add(Dense(1,activation='sigmoid'))\n",
    "model.compile(optimizer='adam',loss='binary_crossentropy',metrics=['accuracy'])\n",
    "model.summary()\n",
    "\n",
    "model.load_weights('a.h5')"
   ]
  },
  {
   "cell_type": "code",
   "execution_count": 4,
   "metadata": {},
   "outputs": [],
   "source": [
    "# Load the Haar cascade classifiers\n",
    "classifier_face = cv2.CascadeClassifier(\"./haar_cascade/lib/python3.10/site-packages/cv2/data/haarcascade_frontalface_default.xml\")\n",
    "classifier_smile = cv2.CascadeClassifier(\"./haar_cascade/lib/python3.10/site-packages/cv2/data/haarcascade_smile.xml\")"
   ]
  },
  {
   "cell_type": "code",
   "execution_count": 5,
   "metadata": {},
   "outputs": [
    {
     "ename": "NameError",
     "evalue": "name 'get_face' is not defined",
     "output_type": "error",
     "traceback": [
      "\u001b[0;31m---------------------------------------------------------------------------\u001b[0m",
      "\u001b[0;31mNameError\u001b[0m                                 Traceback (most recent call last)",
      "Cell \u001b[0;32mIn[5], line 21\u001b[0m\n\u001b[1;32m     18\u001b[0m     get_face \u001b[39m=\u001b[39m frame[y:y\u001b[39m+\u001b[39mh, x:x\u001b[39m+\u001b[39mw]\n\u001b[1;32m     20\u001b[0m \u001b[39m# Detect objects using the second classifier\u001b[39;00m\n\u001b[0;32m---> 21\u001b[0m gray_face \u001b[39m=\u001b[39m cv2\u001b[39m.\u001b[39mcvtColor(get_face, cv2\u001b[39m.\u001b[39mCOLOR_BGR2GRAY)\n\u001b[1;32m     22\u001b[0m objects2 \u001b[39m=\u001b[39m classifier_smile\u001b[39m.\u001b[39mdetectMultiScale(gray_face)\n\u001b[1;32m     24\u001b[0m \u001b[39m# Loop through the detected objects and draw a rectangle around them\u001b[39;00m\n\u001b[1;32m     25\u001b[0m \u001b[39m# for (x, y, w, h) in objects2:\u001b[39;00m\n\u001b[1;32m     26\u001b[0m \u001b[39m#     if objects2 is None or y < objects2[1]:\u001b[39;00m\n\u001b[0;32m   (...)\u001b[0m\n\u001b[1;32m     29\u001b[0m     \n\u001b[1;32m     30\u001b[0m \u001b[39m# Select the object of interest based on its lower middle position in the image\u001b[39;00m\n",
      "\u001b[0;31mNameError\u001b[0m: name 'get_face' is not defined"
     ]
    }
   ],
   "source": [
    "# Initialize the webcam capture object\n",
    "capture = cv2.VideoCapture(0)\n",
    "\n",
    "# Loop until the user presses 'q' to quit\n",
    "while True:\n",
    "    # Read the next frame from the webcam\n",
    "    ret, frame = capture.read()\n",
    "\n",
    "    # Convert the frame to grayscale\n",
    "    gray_frame = cv2.cvtColor(frame, cv2.COLOR_BGR2GRAY)\n",
    "\n",
    "    # Detect objects using the first classifier\n",
    "    objects1 = classifier_face.detectMultiScale(gray_frame)\n",
    "\n",
    "    # Loop through the detected objects and draw a rectangle around them\n",
    "    for (x, y, w, h) in objects1:\n",
    "        cv2.rectangle(frame, (x, y), (x+w, y+h), (255, 0, 0), 2)\n",
    "        get_face = frame[y:y+h, x:x+w]\n",
    "\n",
    "    # Detect objects using the second classifier\n",
    "    gray_face = cv2.cvtColor(get_face, cv2.COLOR_BGR2GRAY)\n",
    "    objects2 = classifier_smile.detectMultiScale(gray_face)\n",
    "\n",
    "    # Loop through the detected objects and draw a rectangle around them\n",
    "    # for (x, y, w, h) in objects2:\n",
    "    #     if objects2 is None or y < objects2[1]:\n",
    "    #         selected_object = (x, y, w, h)\n",
    "    #         cv2.rectangle(get_face, (x, y), (x+w, y+h), (0, 255, 0), 2)\n",
    "        \n",
    "    # Select the object of interest based on its lower middle position in the image\n",
    "    selected_object = None\n",
    "    for (x, y, w, h) in objects2:\n",
    "        cx = x + w // 2\n",
    "        cy = y + h\n",
    "        if selected_object is None or cy > selected_object[1]:\n",
    "            selected_object = (cx, cy, w, h)\n",
    "\n",
    "    # Draw a rectangle around the selected object\n",
    "    if selected_object is not None:\n",
    "        cx, cy, w, h = selected_object\n",
    "        cv2.rectangle(get_face, (cx-w//2, cy-h), (cx+w//2, cy), (0, 255, 0), 2)\n",
    "        object_image = get_face[cy-h:cy, cx-w//2:cx+w//2]\n",
    "  \n",
    "    smile = cv2.resize(object_image, (45,90))\n",
    "\n",
    "    y_pred = model.predict(np.asarray([smile]))\n",
    "    y_pred = (y_pred>0.5)*1\n",
    "    print(y_pred)\n",
    "\n",
    "    # Show the frame with the detected objects\n",
    "    cv2.imshow('Objects', frame)\n",
    "\n",
    "    # Check if the user pressed 'q' to quit\n",
    "    if cv2.waitKey(1) & 0xFF == ord('q'):\n",
    "        break\n",
    "\n",
    "# Release the webcam capture object\n",
    "capture.release()"
   ]
  },
  {
   "cell_type": "code",
   "execution_count": 11,
   "metadata": {},
   "outputs": [],
   "source": [
    "# Release the webcam capture object\n",
    "capture.release()"
   ]
  }
 ],
 "metadata": {
  "kernelspec": {
   "display_name": "haar_cascade",
   "language": "python",
   "name": "python3"
  },
  "language_info": {
   "codemirror_mode": {
    "name": "ipython",
    "version": 3
   },
   "file_extension": ".py",
   "mimetype": "text/x-python",
   "name": "python",
   "nbconvert_exporter": "python",
   "pygments_lexer": "ipython3",
   "version": "3.10.8 (v3.10.8:aaaf517424, Oct 11 2022, 10:14:40) [Clang 13.0.0 (clang-1300.0.29.30)]"
  },
  "orig_nbformat": 4,
  "vscode": {
   "interpreter": {
    "hash": "6e6e4ec2eddf8d4ab540361a4ceb49c9b31480b428bc01893ed60ab3d39f6012"
   }
  }
 },
 "nbformat": 4,
 "nbformat_minor": 2
}
